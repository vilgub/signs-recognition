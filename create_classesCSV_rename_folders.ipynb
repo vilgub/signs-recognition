{
 "cells": [
  {
   "cell_type": "code",
   "execution_count": 2,
   "id": "fa4aa913",
   "metadata": {},
   "outputs": [],
   "source": [
    "import os\n",
    "import pandas as pd"
   ]
  },
  {
   "cell_type": "code",
   "execution_count": 5,
   "id": "07621ef1",
   "metadata": {},
   "outputs": [],
   "source": [
    "parent_dir = 'D:/signs/'\n",
    "classes_path = parent_dir + 'classes'\n",
    "list_classes = os.listdir(classes_path)\n",
    "n = len(list_classes)"
   ]
  },
  {
   "cell_type": "code",
   "execution_count": 7,
   "id": "67283673",
   "metadata": {},
   "outputs": [],
   "source": [
    "labels = pd.DataFrame() # create df\n",
    "labels['ClassId'],labels['SignName'] = [x for x in range(1,n+1)],[0 for x in range(n)] # add columns "
   ]
  },
  {
   "cell_type": "code",
   "execution_count": null,
   "id": "2d21f66b",
   "metadata": {},
   "outputs": [],
   "source": [
    "for i in range(labels.shape[0]):\n",
    "    print(list_classes[i])\n",
    "    labels['SignName'][i] = input() # input sign name\n",
    "    os.rename(os.path.join(classes_path, list_classes[i]), #rename folders\n",
    "              os.path.join(classes_path, str(i+1)))"
   ]
  },
  {
   "cell_type": "code",
   "execution_count": 14,
   "id": "fb89a7c0",
   "metadata": {},
   "outputs": [
    {
     "data": {
      "text/html": [
       "<div>\n",
       "<style scoped>\n",
       "    .dataframe tbody tr th:only-of-type {\n",
       "        vertical-align: middle;\n",
       "    }\n",
       "\n",
       "    .dataframe tbody tr th {\n",
       "        vertical-align: top;\n",
       "    }\n",
       "\n",
       "    .dataframe thead th {\n",
       "        text-align: right;\n",
       "    }\n",
       "</style>\n",
       "<table border=\"1\" class=\"dataframe\">\n",
       "  <thead>\n",
       "    <tr style=\"text-align: right;\">\n",
       "      <th></th>\n",
       "      <th>ClassId</th>\n",
       "      <th>SignName</th>\n",
       "    </tr>\n",
       "  </thead>\n",
       "  <tbody>\n",
       "    <tr>\n",
       "      <th>0</th>\n",
       "      <td>1</td>\n",
       "      <td>Знак 1.1. Железнодорожный переезд со шлагбаумом</td>\n",
       "    </tr>\n",
       "    <tr>\n",
       "      <th>1</th>\n",
       "      <td>2</td>\n",
       "      <td>Знак 1.10. Выезд на набережную</td>\n",
       "    </tr>\n",
       "    <tr>\n",
       "      <th>2</th>\n",
       "      <td>3</td>\n",
       "      <td>Знак 1.11.1. Опасный поворот (правый)</td>\n",
       "    </tr>\n",
       "    <tr>\n",
       "      <th>3</th>\n",
       "      <td>4</td>\n",
       "      <td>Знак 1.11.2. Опасный поворот (левый)</td>\n",
       "    </tr>\n",
       "    <tr>\n",
       "      <th>4</th>\n",
       "      <td>5</td>\n",
       "      <td>Знак 1.12.1. Опасные повороты (с первым поворо...</td>\n",
       "    </tr>\n",
       "  </tbody>\n",
       "</table>\n",
       "</div>"
      ],
      "text/plain": [
       "   ClassId                                           SignName\n",
       "0        1    Знак 1.1. Железнодорожный переезд со шлагбаумом\n",
       "1        2                     Знак 1.10. Выезд на набережную\n",
       "2        3              Знак 1.11.1. Опасный поворот (правый)\n",
       "3        4               Знак 1.11.2. Опасный поворот (левый)\n",
       "4        5  Знак 1.12.1. Опасные повороты (с первым поворо..."
      ]
     },
     "execution_count": 14,
     "metadata": {},
     "output_type": "execute_result"
    }
   ],
   "source": [
    "labels.head()"
   ]
  },
  {
   "cell_type": "code",
   "execution_count": 15,
   "id": "9e4f99f0",
   "metadata": {},
   "outputs": [],
   "source": [
    "labels.to_csv(os.path.join(parent_dir, 'labels.csv')) # save df"
   ]
  }
 ],
 "metadata": {
  "kernelspec": {
   "display_name": "Python 3 (ipykernel)",
   "language": "python",
   "name": "python3"
  },
  "language_info": {
   "codemirror_mode": {
    "name": "ipython",
    "version": 3
   },
   "file_extension": ".py",
   "mimetype": "text/x-python",
   "name": "python",
   "nbconvert_exporter": "python",
   "pygments_lexer": "ipython3",
   "version": "3.9.12"
  }
 },
 "nbformat": 4,
 "nbformat_minor": 5
}
