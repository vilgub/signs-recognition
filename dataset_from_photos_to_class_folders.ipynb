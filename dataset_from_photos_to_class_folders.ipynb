{
 "cells": [
  {
   "cell_type": "code",
   "execution_count": 1,
   "id": "3313904e",
   "metadata": {},
   "outputs": [],
   "source": [
    "import numpy as np\n",
    "import pandas as pd\n",
    "import cv2 as cv\n",
    "import os"
   ]
  },
  {
   "cell_type": "code",
   "execution_count": null,
   "id": "fd5b817e",
   "metadata": {},
   "outputs": [],
   "source": [
    "# images = os.listdir('D:/signs/rtsd-frames') # make list of images"
   ]
  },
  {
   "cell_type": "code",
   "execution_count": 5,
   "id": "a4353e5d",
   "metadata": {},
   "outputs": [],
   "source": [
    "photos_dir = 'D:/signs/rtsd-frames/'\n",
    "\n",
    "gt_labels = pd.read_csv('D:/signs/full-gt.csv') # read csv\n",
    "\n",
    "# the sizes of signs can differ several times on their sides\n",
    "\n",
    "gt_labels['max_size'] = gt_labels[['width','height']].max(axis = 1) # add column with max size of labeled sign"
   ]
  },
  {
   "cell_type": "code",
   "execution_count": 6,
   "id": "bbb47d05",
   "metadata": {},
   "outputs": [
    {
     "ename": "FileExistsError",
     "evalue": "[WinError 183] Cannot create a file when that file already exists: 'D:/signs/classes\\\\2_1'",
     "output_type": "error",
     "traceback": [
      "\u001b[1;31m---------------------------------------------------------------------------\u001b[0m",
      "\u001b[1;31mFileExistsError\u001b[0m                           Traceback (most recent call last)",
      "Input \u001b[1;32mIn [6]\u001b[0m, in \u001b[0;36m<cell line: 3>\u001b[1;34m()\u001b[0m\n\u001b[0;32m      3\u001b[0m \u001b[38;5;28;01mfor\u001b[39;00m i \u001b[38;5;129;01min\u001b[39;00m gt_labels[\u001b[38;5;124m'\u001b[39m\u001b[38;5;124msign_class\u001b[39m\u001b[38;5;124m'\u001b[39m]\u001b[38;5;241m.\u001b[39munique(): \u001b[38;5;66;03m# create folders for each sign class\u001b[39;00m\n\u001b[0;32m      4\u001b[0m     path \u001b[38;5;241m=\u001b[39m os\u001b[38;5;241m.\u001b[39mpath\u001b[38;5;241m.\u001b[39mjoin(root_dir, i)\n\u001b[1;32m----> 5\u001b[0m     \u001b[43mos\u001b[49m\u001b[38;5;241;43m.\u001b[39;49m\u001b[43mmkdir\u001b[49m\u001b[43m(\u001b[49m\u001b[43mpath\u001b[49m\u001b[43m)\u001b[49m\n",
      "\u001b[1;31mFileExistsError\u001b[0m: [WinError 183] Cannot create a file when that file already exists: 'D:/signs/classes\\\\2_1'"
     ]
    }
   ],
   "source": [
    "\n",
    "root_dir = 'D:/signs/classes' # select folder for all images collection\n",
    "\n",
    "for i in gt_labels['sign_class'].unique(): # create folders for each sign class\n",
    "    path = os.path.join(root_dir, i)\n",
    "    os.mkdir(path)"
   ]
  },
  {
   "cell_type": "code",
   "execution_count": 14,
   "id": "b44f3fd8",
   "metadata": {},
   "outputs": [
    {
     "data": {
      "text/plain": [
       "'autosave01_02_2012_09_13_33.jpg'"
      ]
     },
     "execution_count": 14,
     "metadata": {},
     "output_type": "execute_result"
    }
   ],
   "source": [
    "gt_labels.iloc[0][0]\n"
   ]
  },
  {
   "cell_type": "code",
   "execution_count": 15,
   "id": "eae64c07",
   "metadata": {},
   "outputs": [],
   "source": [
    "# function for cutting photos and sorting small images to appropriate folders \n",
    "# some of photos have more than one sign\n",
    "def find_and_sort(n):\n",
    "    im_labels = gt_labels.iloc[n] # find a row in csv with labels\n",
    "\n",
    "    full = cv.imread(photos_dir + str(im_labels[0]), cv.IMREAD_COLOR) # read a photo (returns np array)\n",
    "\n",
    "    max_size = im_labels['max_size']\n",
    "    sign = full[im_labels.y_from : im_labels.y_from + max_size,\n",
    "                im_labels.x_from : im_labels.x_from + max_size] # cut a small square piece from upper-left corner of label \n",
    "                                                            \n",
    "    sign = cv.resize(sign, (32,32), interpolation = cv.INTER_AREA) # resize to 32*32 array\n",
    "    # RGB_sign = cv.cvtColor(sign, cv.COLOR_BGR2RGB) if you want to show this image in RGB\n",
    "\n",
    "    path = os.path.join(root_dir, im_labels['sign_class']) # select folder\n",
    "    cv.imwrite(os.path.join(path, str(n)+'.jpg'), sign) # save image\n",
    "    cv.waitKey(0)"
   ]
  },
  {
   "cell_type": "code",
   "execution_count": null,
   "id": "bd079b29",
   "metadata": {},
   "outputs": [],
   "source": [
    "# function for cutting photos and sorting small images to appropriate folders \n",
    "# some of photos have more than one sign\n",
    "\n",
    "# def find_and_sort(n):\n",
    "    im_labels = gt_labels[gt_labels.filename == images[n]].iloc[0] # find a row in csv with labels\n",
    "\n",
    "    full = cv.imread(root_dir + images[n], cv.IMREAD_COLOR) # read a photo (returns np array)\n",
    "\n",
    "    max_size = im_labels['max_size']\n",
    "    sign = full[im_labels.y_from : im_labels.y_from + max_size,\n",
    "                im_labels.x_from : im_labels.x_from + max_size] # cut a small square piece from upper-left corner of label \n",
    "                                                            \n",
    "    sign = cv.resize(sign, (32,32), interpolation = cv.INTER_AREA) # resize to 32*32 array\n",
    "    # RGB_sign = cv.cvtColor(sign, cv.COLOR_BGR2RGB) if you want to show image in correct colors\n",
    "\n",
    "    path = os.path.join(parent_dir, im_labels['sign_class']) # select folder\n",
    "    cv.imwrite(os.path.join(path, str(im_labels['x_from'])+\".jpg\"), sign) # save image\n",
    "    cv.waitKey(0)"
   ]
  },
  {
   "cell_type": "code",
   "execution_count": 17,
   "id": "1cfc1d2c",
   "metadata": {},
   "outputs": [],
   "source": [
    "for i in range(gt_labels.shape[0]):\n",
    "    find_and_sort(i)"
   ]
  },
  {
   "cell_type": "code",
   "execution_count": null,
   "id": "bd5d59cd",
   "metadata": {},
   "outputs": [],
   "source": []
  },
  {
   "cell_type": "code",
   "execution_count": null,
   "id": "e794bc35",
   "metadata": {},
   "outputs": [],
   "source": []
  },
  {
   "cell_type": "code",
   "execution_count": null,
   "id": "4e170874",
   "metadata": {},
   "outputs": [],
   "source": []
  },
  {
   "cell_type": "code",
   "execution_count": null,
   "id": "4ef3e838",
   "metadata": {},
   "outputs": [],
   "source": []
  },
  {
   "cell_type": "code",
   "execution_count": null,
   "id": "3d353eb1",
   "metadata": {},
   "outputs": [],
   "source": []
  },
  {
   "cell_type": "code",
   "execution_count": null,
   "id": "06185a9e",
   "metadata": {},
   "outputs": [],
   "source": []
  },
  {
   "cell_type": "code",
   "execution_count": null,
   "id": "89cf670c",
   "metadata": {},
   "outputs": [],
   "source": []
  },
  {
   "cell_type": "code",
   "execution_count": null,
   "id": "80cd0f55",
   "metadata": {},
   "outputs": [],
   "source": []
  },
  {
   "cell_type": "code",
   "execution_count": null,
   "id": "a1e87df7",
   "metadata": {},
   "outputs": [],
   "source": []
  },
  {
   "cell_type": "code",
   "execution_count": null,
   "id": "6e9a373a",
   "metadata": {},
   "outputs": [],
   "source": []
  }
 ],
 "metadata": {
  "kernelspec": {
   "display_name": "Python 3 (ipykernel)",
   "language": "python",
   "name": "python3"
  },
  "language_info": {
   "codemirror_mode": {
    "name": "ipython",
    "version": 3
   },
   "file_extension": ".py",
   "mimetype": "text/x-python",
   "name": "python",
   "nbconvert_exporter": "python",
   "pygments_lexer": "ipython3",
   "version": "3.9.12"
  }
 },
 "nbformat": 4,
 "nbformat_minor": 5
}
