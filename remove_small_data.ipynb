{
 "cells": [
  {
   "cell_type": "code",
   "execution_count": 44,
   "id": "c90e7300",
   "metadata": {},
   "outputs": [],
   "source": [
    "import os\n",
    "import pandas as pd\n",
    "import shutil"
   ]
  },
  {
   "cell_type": "code",
   "execution_count": 45,
   "id": "6ca1aac8",
   "metadata": {},
   "outputs": [],
   "source": [
    "parent_dir = 'D:/signs/classes'"
   ]
  },
  {
   "cell_type": "code",
   "execution_count": 46,
   "id": "e42a8501",
   "metadata": {},
   "outputs": [],
   "source": [
    "list_small_classes = []\n",
    "for folder in os.listdir(parent_dir):\n",
    "    path = os.path.join(parent_dir,folder)\n",
    "    if len(os.listdir(path)) < 100:\n",
    "        list_small_classes.append(folder)"
   ]
  },
  {
   "cell_type": "code",
   "execution_count": 50,
   "id": "de34c143",
   "metadata": {},
   "outputs": [
    {
     "data": {
      "text/plain": [
       "110"
      ]
     },
     "execution_count": 50,
     "metadata": {},
     "output_type": "execute_result"
    }
   ],
   "source": [
    "len(list_small_classes)"
   ]
  },
  {
   "cell_type": "code",
   "execution_count": 51,
   "id": "b85125a6",
   "metadata": {},
   "outputs": [],
   "source": [
    "for i in list_small_classes:\n",
    "    path = os.path.join(parent_dir, i)\n",
    "    shutil.rmtree(path)"
   ]
  },
  {
   "cell_type": "code",
   "execution_count": null,
   "id": "58ba55ee",
   "metadata": {},
   "outputs": [],
   "source": []
  }
 ],
 "metadata": {
  "kernelspec": {
   "display_name": "Python 3 (ipykernel)",
   "language": "python",
   "name": "python3"
  },
  "language_info": {
   "codemirror_mode": {
    "name": "ipython",
    "version": 3
   },
   "file_extension": ".py",
   "mimetype": "text/x-python",
   "name": "python",
   "nbconvert_exporter": "python",
   "pygments_lexer": "ipython3",
   "version": "3.9.12"
  }
 },
 "nbformat": 4,
 "nbformat_minor": 5
}
